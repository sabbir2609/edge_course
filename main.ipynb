{
 "cells": [
  {
   "cell_type": "code",
   "execution_count": 2,
   "metadata": {},
   "outputs": [
    {
     "name": "stdout",
     "output_type": "stream",
     "text": [
      "For loop iteration 0\n",
      "For loop iteration 1\n",
      "For loop iteration 2\n",
      "For loop iteration 3\n",
      "For loop iteration 4\n",
      "While loop iteration 0\n",
      "While loop iteration 1\n",
      "While loop iteration 2\n",
      "While loop iteration 3\n",
      "While loop iteration 4\n",
      "Nested loop iteration i=0, j=0\n",
      "Nested loop iteration i=0, j=1\n",
      "Nested loop iteration i=1, j=0\n",
      "Nested loop iteration i=1, j=1\n",
      "Nested loop iteration i=2, j=0\n",
      "Nested loop iteration i=2, j=1\n"
     ]
    }
   ],
   "source": [
    "# For loop example\n",
    "for i in range(5):\n",
    "    print(f\"For loop iteration {i}\")\n",
    "\n",
    "# While loop example\n",
    "count = 0\n",
    "while count < 5:\n",
    "    print(f\"While loop iteration {count}\")\n",
    "    count += 1\n",
    "\n",
    "# Nested loop example\n",
    "for i in range(3):\n",
    "    for j in range(2):\n",
    "        print(f\"Nested loop iteration i={i}, j={j}\")"
   ]
  },
  {
   "cell_type": "code",
   "execution_count": 5,
   "metadata": {},
   "outputs": [
    {
     "name": "stdout",
     "output_type": "stream",
     "text": [
      "The factorial of 55 is 12696403353658275925965100847566516959580321051449436762275840000000000000\n"
     ]
    }
   ],
   "source": [
    "# determine the factorial of a number\n",
    "num = int(input(\"Enter a number: \"))\n",
    "factorial = 1\n",
    "for i in range(1, num + 1):\n",
    "    factorial *= i\n",
    "print(f\"The factorial of {num} is {factorial}\")"
   ]
  },
  {
   "cell_type": "code",
   "execution_count": 8,
   "metadata": {},
   "outputs": [
    {
     "name": "stdout",
     "output_type": "stream",
     "text": [
      "The fibonacci sequence of 10 is [0, 1, 1, 2, 3, 5, 8, 13, 21, 34]\n"
     ]
    }
   ],
   "source": [
    "# fibonacci sequence\n",
    "\n",
    "def fibonacci(n):\n",
    "    sequence = []\n",
    "    a, b = 0, 1\n",
    "    for i in range(n):\n",
    "        sequence.append(a)\n",
    "        a, b = b, a + b\n",
    "    return sequence\n",
    "\n",
    "n = 10\n",
    "fib_sequence = fibonacci(n)\n",
    "print(f\"The fibonacci sequence of {n} is {fib_sequence}\")\n"
   ]
  },
  {
   "cell_type": "code",
   "execution_count": null,
   "metadata": {},
   "outputs": [
    {
     "name": "stdout",
     "output_type": "stream",
     "text": [
      "The sorted array is [11, 12, 22, 25, 34, 64, 90]\n"
     ]
    }
   ],
   "source": [
    "# bubble sort\n",
    "def bubble_sort(arr):\n",
    "    n = len(arr)\n",
    "    for i in range(n):\n",
    "        for j in range(0, n - i - 1):\n",
    "            if arr[j] > arr[j + 1]:\n",
    "                arr[j], arr[j + 1] = arr[j + 1], arr[j]\n",
    "    return arr\n",
    "\n",
    "arr = [64, 34, 25, 12, 22, 11, 90]\n",
    "sorted_arr = bubble_sort(arr)\n",
    "print(f\"The sorted array is {sorted_arr}\")"
   ]
  },
  {
   "cell_type": "code",
   "execution_count": 1,
   "metadata": {},
   "outputs": [
    {
     "name": "stdout",
     "output_type": "stream",
     "text": [
      "The phone number is 408-555-1234\n"
     ]
    }
   ],
   "source": [
    "# find number from a string with regular expression\n",
    "import re\n",
    "\n",
    "text = \"The phone number of the agent is 408-555-1234. Call soon!\"\n",
    "pattern = r\"\\d{3}-\\d{3}-\\d{4}\"\n",
    "phone = re.search(pattern, text)\n",
    "print(f\"The phone number is {phone.group()}\")"
   ]
  },
  {
   "cell_type": "code",
   "execution_count": 2,
   "metadata": {},
   "outputs": [
    {
     "name": "stdout",
     "output_type": "stream",
     "text": [
      "The email is xyz@gmail.com\n"
     ]
    }
   ],
   "source": [
    "# find mail from a string with regular expression\n",
    "text = \" The email of the person is xyz@gmail.com\"\n",
    "\n",
    "pattern = r\"\\w+@\\w+\\.\\w+\"\n",
    "email = re.search(pattern, text)\n",
    "print(f\"The email is {email.group()}\")"
   ]
  },
  {
   "cell_type": "code",
   "execution_count": 3,
   "metadata": {},
   "outputs": [
    {
     "name": "stdout",
     "output_type": "stream",
     "text": [
      "Extracted Emails:\n",
      "john.doe@example.com\n",
      "alice.smith@company.org\n",
      "contact@mywebsite.net\n"
     ]
    }
   ],
   "source": [
    "import re\n",
    "\n",
    "# Function to extract emails from a given text\n",
    "def extract_emails(text):\n",
    "    # Regular expression pattern to match email addresses\n",
    "    email_pattern = r'[a-zA-Z0-9._%+-]+@[a-zA-Z0-9.-]+\\.[a-zA-Z]{2,}'\n",
    "    \n",
    "    # Find all occurrences of the pattern in the text\n",
    "    emails = re.findall(email_pattern, text)\n",
    "    \n",
    "    return emails\n",
    "\n",
    "# Example usage\n",
    "if __name__ == \"__main__\":\n",
    "    sample_text = \"\"\"\n",
    "    Here are some email addresses:\n",
    "    john.doe@example.com\n",
    "    alice.smith@company.org\n",
    "    contact@mywebsite.net\n",
    "    Invalid emails: john@com, @missingdomain.com\n",
    "    \"\"\"\n",
    "    \n",
    "    # Call the function and print the result\n",
    "    extracted_emails = extract_emails(sample_text)\n",
    "    \n",
    "    print(\"Extracted Emails:\")\n",
    "    for email in extracted_emails:\n",
    "        print(email)\n"
   ]
  },
  {
   "cell_type": "code",
   "execution_count": 4,
   "metadata": {},
   "outputs": [
    {
     "name": "stdout",
     "output_type": "stream",
     "text": [
      "John\n",
      "30\n",
      "name John\n",
      "age 40\n",
      "country USA\n",
      "Alice\n"
     ]
    }
   ],
   "source": [
    "# python dictionary and its methods and nested dictionary\n",
    "\n",
    "# Create a dictionary\n",
    "person = {\n",
    "    \"name\": \"John\",\n",
    "    \"age\": 30,\n",
    "    \"city\": \"New York\"\n",
    "}\n",
    "\n",
    "# Access dictionary items\n",
    "print(person[\"name\"])\n",
    "print(person.get(\"age\"))\n",
    "\n",
    "# Change dictionary items\n",
    "person[\"age\"] = 40\n",
    "\n",
    "# Add new items\n",
    "person[\"country\"] = \"USA\"\n",
    "\n",
    "# Remove items\n",
    "person.pop(\"city\")\n",
    "\n",
    "# Loop through a dictionary\n",
    "for key, value in person.items():\n",
    "    print(key, value)\n",
    "\n",
    "# Nested dictionary\n",
    "person = {\n",
    "    \"name\": \"John\",\n",
    "    \"age\": 30,\n",
    "    \"city\": \"New York\",\n",
    "    \"children\": {\n",
    "        \"child1\": {\n",
    "            \"name\": \"Alice\",\n",
    "            \"age\": 5\n",
    "        },\n",
    "        \"child2\": {\n",
    "            \"name\": \"Bob\",\n",
    "            \"age\": 8\n",
    "        }\n",
    "    }\n",
    "}\n",
    "\n",
    "# Access nested dictionary items\n",
    "print(person[\"children\"][\"child1\"][\"name\"])\n"
   ]
  },
  {
   "cell_type": "code",
   "execution_count": 12,
   "metadata": {},
   "outputs": [
    {
     "name": "stdout",
     "output_type": "stream",
     "text": [
      "Student      Total Marks    Average Marks\n",
      "---------  -------------  ---------------\n",
      "first                420               84\n",
      "second               425               85\n",
      "third                450               90\n",
      "fourth               400               80\n",
      "fifth                450               90\n"
     ]
    }
   ],
   "source": [
    "from tabulate import tabulate\n",
    "\n",
    "# make a dictionary of results of 5 student for 5 subjects \n",
    "\n",
    "students_results = {\n",
    "    \"first\": {\n",
    "        \"math\": 90,\n",
    "        \"science\": 80,\n",
    "        \"english\": 70,\n",
    "        \"history\": 85,\n",
    "        \"art\": 95\n",
    "    },\n",
    "    \"second\": {\n",
    "        \"math\": 85,\n",
    "        \"science\": 90,\n",
    "        \"english\": 75,\n",
    "        \"history\": 80,\n",
    "        \"art\": 95\n",
    "    },\n",
    "    \"third\": {\n",
    "        \"math\": 95,\n",
    "        \"science\": 85,\n",
    "        \"english\": 80,\n",
    "        \"history\": 90,\n",
    "        \"art\": 100\n",
    "    },\n",
    "    \"fourth\": {\n",
    "        \"math\": 80,\n",
    "        \"science\": 75,\n",
    "        \"english\": 70,\n",
    "        \"history\": 85,\n",
    "        \"art\": 90\n",
    "    },\n",
    "    \"fifth\": {\n",
    "        \"math\": 90,\n",
    "        \"science\": 85,\n",
    "        \"english\": 80,\n",
    "        \"history\": 95,\n",
    "        \"art\": 100\n",
    "    }\n",
    "}\n",
    "\n",
    "# Calculate the average marks for each student\n",
    "table = []\n",
    "for student, results in students_results.items():\n",
    "    total = sum(results.values())\n",
    "    average = total / len(results)\n",
    "    table.append([student, total, average])\n",
    "\n",
    "# Print the results in a table\n",
    "print(tabulate(table, headers=[\"Student\", \"Total Marks\", \"Average Marks\"]))"
   ]
  },
  {
   "cell_type": "code",
   "execution_count": 1,
   "metadata": {},
   "outputs": [
    {
     "name": "stdout",
     "output_type": "stream",
     "text": [
      "13\n",
      "HELLO, WORLD!\n",
      "hello, world!\n",
      "Hello, Python!\n",
      "['Hello', ' World!']\n",
      "True\n",
      "False\n",
      "7\n",
      "2\n",
      "False\n",
      "False\n",
      "False\n",
      "False\n",
      "True\n",
      "False\n",
      "False\n",
      "False\n",
      "False\n"
     ]
    }
   ],
   "source": [
    "# python string methods\n",
    "\n",
    "# String methods\n",
    "text = \"Hello, World!\"\n",
    "\n",
    "# Length of the string\n",
    "print(len(text))\n",
    "\n",
    "# Convert to uppercase\n",
    "print(text.upper())\n",
    "\n",
    "# Convert to lowercase\n",
    "print(text.lower())\n",
    "\n",
    "# Replace a substring\n",
    "print(text.replace(\"World\", \"Python\"))\n",
    "\n",
    "# Split the string\n",
    "print(text.split(\",\"))\n",
    "\n",
    "# Check if the string starts with a specific substring\n",
    "print(text.startswith(\"Hello\"))\n",
    "\n",
    "# Check if the string ends with a specific substring\n",
    "print(text.endswith(\"World\"))\n",
    "\n",
    "# Find the index of a substring\n",
    "print(text.find(\"World\"))\n",
    "\n",
    "# Count the occurrences of a substring\n",
    "print(text.count(\"o\"))\n",
    "\n",
    "# Check if the string contains only digits\n",
    "print(text.isdigit())\n",
    "\n",
    "# Check if the string contains only alphabets\n",
    "print(text.isalpha())\n",
    "\n",
    "# Check if the string contains only alphanumeric characters\n",
    "print(text.isalnum())\n",
    "\n",
    "# Check if the string contains only whitespace characters\n",
    "print(text.isspace())\n",
    "\n",
    "# Check if the string is in title case\n",
    "print(text.istitle())\n",
    "\n",
    "# Check if the string is in uppercase\n",
    "print(text.isupper())\n",
    "\n",
    "# Check if the string is in lowercase\n",
    "print(text.islower())\n",
    "\n",
    "# Check if the string is a valid identifier\n",
    "print(text.isidentifier())\n",
    "\n",
    "# Check if the string is a valid numeric literal\n",
    "print(text.isnumeric())"
   ]
  },
  {
   "cell_type": "code",
   "execution_count": 2,
   "metadata": {},
   "outputs": [
    {
     "name": "stdout",
     "output_type": "stream",
     "text": [
      "5\n",
      "2\n",
      "1\n",
      "[0, 1, 4, 9, 16, 25, 36, 49, 64, 81]\n"
     ]
    }
   ],
   "source": [
    "# array methods\n",
    "\n",
    "# Array methods\n",
    "arr = [1, 2, 3, 4, 5]\n",
    "\n",
    "# Length of the array\n",
    "print(len(arr))\n",
    "\n",
    "# Append an element\n",
    "arr.append(6)\n",
    "\n",
    "# Insert an element at a specific index\n",
    "arr.insert(2, 10)\n",
    "\n",
    "# Remove an element\n",
    "arr.remove(3)\n",
    "\n",
    "# Pop an element\n",
    "arr.pop()\n",
    "\n",
    "# Reverse the array\n",
    "arr.reverse()\n",
    "\n",
    "# Sort the array\n",
    "arr.sort()\n",
    "\n",
    "# Find the index of an element\n",
    "print(arr.index(4))\n",
    "\n",
    "# Count the occurrences of an element\n",
    "print(arr.count(2))\n",
    "\n",
    "# Copy the array\n",
    "arr_copy = arr.copy()\n",
    "\n",
    "# Clear the array\n",
    "arr.clear()\n",
    "\n",
    "# List comprehension\n",
    "squares = [i ** 2 for i in range(10)]\n",
    "print(squares)"
   ]
  },
  {
   "cell_type": "code",
   "execution_count": 6,
   "metadata": {},
   "outputs": [
    {
     "name": "stdout",
     "output_type": "stream",
     "text": [
      "The total number of dolls is 15\n",
      "Russian doll of size 5\n",
      "Russian doll of size 4\n",
      "Russian doll of size 3\n",
      "Russian doll of size 2\n",
      "Russian doll of size 1\n",
      "The total number of dolls is 15\n"
     ]
    }
   ],
   "source": [
    "# nasty russian doll problem\n",
    "def russian_doll(n):\n",
    "    if n == 1:\n",
    "        return 1\n",
    "    else:\n",
    "        return n + russian_doll(n - 1)\n",
    "    \n",
    "n = 5\n",
    "total = russian_doll(n)\n",
    "print(f\"The total number of dolls is {total}\")\n",
    "\n",
    "# visualize the recursion tree\n",
    "def russian_doll(n):\n",
    "    if n == 1:\n",
    "        print(\"Russian doll of size 1\")\n",
    "        return 1\n",
    "    else:\n",
    "        print(f\"Russian doll of size {n}\")\n",
    "        return n + russian_doll(n - 1)\n",
    "    \n",
    "n = 5\n",
    "total = russian_doll(n)\n",
    "print(f\"The total number of dolls is {total}\")"
   ]
  },
  {
   "cell_type": "code",
   "execution_count": 8,
   "metadata": {},
   "outputs": [
    {
     "name": "stdout",
     "output_type": "stream",
     "text": [
      "The factorial of 5 is 120\n"
     ]
    }
   ],
   "source": [
    "# factorial of a number\n",
    "def factorial(n):\n",
    "    if n == 0:\n",
    "        return 1\n",
    "    else:\n",
    "        return n * factorial(n - 1)\n",
    "\n",
    "n = 5\n",
    "result = factorial(n)\n",
    "print(f\"The factorial of {n} is {result}\")"
   ]
  },
  {
   "cell_type": "code",
   "execution_count": 9,
   "metadata": {},
   "outputs": [
    {
     "name": "stdout",
     "output_type": "stream",
     "text": [
      "The strings are anagrams.\n"
     ]
    }
   ],
   "source": [
    "# check if a string is anagram or not\n",
    "\n",
    "def is_anagram(s1, s2):\n",
    "    return sorted(s1) == sorted(s2)\n",
    "\n",
    "s1 = \"listen\"\n",
    "s2 = \"silent\"\n",
    "\n",
    "if is_anagram(s1, s2):\n",
    "    print(\"The strings are anagrams.\")\n",
    "else:\n",
    "    print(\"The strings are not anagrams.\")\n"
   ]
  },
  {
   "cell_type": "code",
   "execution_count": 11,
   "metadata": {},
   "outputs": [
    {
     "name": "stdout",
     "output_type": "stream",
     "text": [
      "The strings are anagrams.\n"
     ]
    }
   ],
   "source": [
    "# anagram using dictionary\n",
    "\n",
    "def is_anagram(s1, s2):\n",
    "    if len(s1) != len(s2):\n",
    "        return False\n",
    "    \n",
    "    count = {}\n",
    "    for char in s1:\n",
    "        if char in count:\n",
    "            count[char] += 1\n",
    "        else:\n",
    "            count[char] = 1\n",
    "    \n",
    "    for char in s2:\n",
    "        if char in count:\n",
    "            count[char] -= 1\n",
    "        else:\n",
    "            return False\n",
    "    \n",
    "    return all(value == 0 for value in count.values())\n",
    "\n",
    "s1 = \"listen\"\n",
    "s2 = \"silent\"\n",
    "\n",
    "if is_anagram(s1, s2):\n",
    "    print(\"The strings are anagrams.\")\n",
    "else:\n",
    "    print(\"The strings are not anagrams.\")"
   ]
  }
 ],
 "metadata": {
  "kernelspec": {
   "display_name": "Python 3",
   "language": "python",
   "name": "python3"
  },
  "language_info": {
   "codemirror_mode": {
    "name": "ipython",
    "version": 3
   },
   "file_extension": ".py",
   "mimetype": "text/x-python",
   "name": "python",
   "nbconvert_exporter": "python",
   "pygments_lexer": "ipython3",
   "version": "3.12.1"
  }
 },
 "nbformat": 4,
 "nbformat_minor": 2
}
