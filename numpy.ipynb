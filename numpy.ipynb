{
 "cells": [
  {
   "cell_type": "code",
   "execution_count": 2,
   "metadata": {},
   "outputs": [
    {
     "name": "stdout",
     "output_type": "stream",
     "text": [
      "[1, 2, 3, 4, 5]\n",
      "1\n",
      "5\n",
      "4\n",
      "[1, 2]\n",
      "[4, 5]\n",
      "[2, 3, 4]\n",
      "[2, 4]\n",
      "[2]\n",
      "[1, 2]\n"
     ]
    }
   ],
   "source": [
    "# basic python array operations\n",
    "\n",
    "# create an array\n",
    "arr = [1, 2, 3, 4, 5]\n",
    "\n",
    "# print the array\n",
    "print(arr)\n",
    "\n",
    "# access the first element\n",
    "print(arr[0])\n",
    "\n",
    "# access the last element\n",
    "print(arr[-1])\n",
    "\n",
    "# access the second last element\n",
    "print(arr[-2])\n",
    "\n",
    "# access the first two elements\n",
    "print(arr[0:2])\n",
    "\n",
    "# access the last two elements\n",
    "print(arr[-2:])\n",
    "\n",
    "# access the elements from 2 to 4\n",
    "print(arr[1:4])\n",
    "\n",
    "# access the elements from 2 to 4 with a step of 2\n",
    "print(arr[1:4:2])\n",
    "\n",
    "# access the elements from 2 to 4 with a step of 3\n",
    "print(arr[1:4:3])\n",
    "\n",
    "# create a new array with the first two elements\n",
    "new_arr = arr[:2]\n",
    "print(new_arr)\n",
    "\n",
    "# create a new array with the last two elements\n",
    "new_arr = arr[-2:]\n"
   ]
  },
  {
   "cell_type": "code",
   "execution_count": 3,
   "metadata": {},
   "outputs": [
    {
     "name": "stdout",
     "output_type": "stream",
     "text": [
      "[1 2 3 4 5]\n",
      "1\n",
      "5\n"
     ]
    }
   ],
   "source": [
    "# numpy array operations\n",
    "import numpy as np\n",
    "\n",
    "# create a numpy array\n",
    "arr = np.array([1, 2, 3, 4, 5])\n",
    "\n",
    "# print the array\n",
    "print(arr)\n",
    "\n",
    "# access the first element\n",
    "print(arr[0])\n",
    "\n",
    "# access the last element\n",
    "print(arr[-1])"
   ]
  },
  {
   "cell_type": "code",
   "execution_count": 5,
   "metadata": {},
   "outputs": [
    {
     "name": "stdout",
     "output_type": "stream",
     "text": [
      "The array:\n",
      "[[1 2 3]\n",
      " [4 5 6]\n",
      " [7 8 9]]\n",
      "Subarray:\n",
      "[[2 3]\n",
      " [5 6]]\n"
     ]
    }
   ],
   "source": [
    "# create numpy matrix\n",
    "\n",
    "# create a 3x3 array\n",
    "arr = np.array([[1, 2, 3], [4, 5, 6], [7, 8, 9]])\n",
    "\n",
    "# print the array\n",
    "print(\"The array:\")\n",
    "print(arr)\n",
    "\n",
    "# Slicing to extract a subarray\n",
    "sub_arr = arr[0:2, 1:]\n",
    "\n",
    "print(\"Subarray:\")  # print the subarray\n",
    "print(sub_arr)\n"
   ]
  }
 ],
 "metadata": {
  "kernelspec": {
   "display_name": "Python 3",
   "language": "python",
   "name": "python3"
  },
  "language_info": {
   "codemirror_mode": {
    "name": "ipython",
    "version": 3
   },
   "file_extension": ".py",
   "mimetype": "text/x-python",
   "name": "python",
   "nbconvert_exporter": "python",
   "pygments_lexer": "ipython3",
   "version": "3.12.1"
  }
 },
 "nbformat": 4,
 "nbformat_minor": 2
}
