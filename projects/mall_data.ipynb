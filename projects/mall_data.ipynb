{
 "cells": [
  {
   "cell_type": "markdown",
   "metadata": {},
   "source": [
    "# Resources\n",
    "- [Kaggel](https://www.kaggle.com/code/karnikakapoor/customer-segmentation-clustering)\n",
    "- [Kaggel](https://www.kaggle.com/code/listonlt/mall-customers-segmentation-k-means-clustering)"
   ]
  },
  {
   "cell_type": "code",
   "execution_count": 1,
   "metadata": {},
   "outputs": [],
   "source": [
    "# This is mall customer segmentation using KMeans clustering algorithm\n",
    "# Importing the libraries\n",
    "import numpy as np\n",
    "import matplotlib.pyplot as plt\n",
    "import pandas as pd\n",
    "import seaborn as sns"
   ]
  },
  {
   "cell_type": "code",
   "execution_count": 3,
   "metadata": {},
   "outputs": [
    {
     "name": "stdout",
     "output_type": "stream",
     "text": [
      "The head of the data: \n",
      "\n",
      "The tail of the data: \n",
      "<class 'pandas.core.frame.DataFrame'>\n",
      "RangeIndex: 200 entries, 0 to 199\n",
      "Data columns (total 5 columns):\n",
      " #   Column              Non-Null Count  Dtype \n",
      "---  ------              --------------  ----- \n",
      " 0   CustomerID          200 non-null    int64 \n",
      " 1   Genre               200 non-null    object\n",
      " 2   Age                 200 non-null    int64 \n",
      " 3   Annual_Income_(k$)  200 non-null    int64 \n",
      " 4   Spending_Score      200 non-null    int64 \n",
      "dtypes: int64(4), object(1)\n",
      "memory usage: 7.9+ KB\n",
      "\n",
      "The description of the data: \n",
      "\n",
      "The missing values of the data: \n",
      "The shape of the data:  (200, 5)\n"
     ]
    }
   ],
   "source": [
    "# Importing the dataset\n",
    "df = pd.read_csv('../data/mall_customers.csv')\n",
    "\n",
    "# Exploratory Data Analysis\n",
    "print(\"The head of the data: \")\n",
    "df.head()\n",
    "\n",
    "# Checking the data types\n",
    "print(\"\\nThe tail of the data: \")\n",
    "df.info()\n",
    "\n",
    "# Descriptive statistics\n",
    "print(\"\\nThe description of the data: \")\n",
    "df.describe()\n",
    "\n",
    "# Checking for missing values\n",
    "print(\"\\nThe missing values of the data: \")\n",
    "df.isnull().sum()\n",
    "\n",
    "# Shape of the data\n",
    "print(\"The shape of the data: \", df.shape)"
   ]
  },
  {
   "cell_type": "code",
   "execution_count": null,
   "metadata": {},
   "outputs": [],
   "source": []
  }
 ],
 "metadata": {
  "kernelspec": {
   "display_name": "Python 3",
   "language": "python",
   "name": "python3"
  },
  "language_info": {
   "codemirror_mode": {
    "name": "ipython",
    "version": 3
   },
   "file_extension": ".py",
   "mimetype": "text/x-python",
   "name": "python",
   "nbconvert_exporter": "python",
   "pygments_lexer": "ipython3",
   "version": "3.12.1"
  }
 },
 "nbformat": 4,
 "nbformat_minor": 2
}
