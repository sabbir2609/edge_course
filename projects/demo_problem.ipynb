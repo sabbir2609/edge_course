{
 "cells": [
  {
   "cell_type": "code",
   "execution_count": 1,
   "metadata": {},
   "outputs": [
    {
     "name": "stdout",
     "output_type": "stream",
     "text": [
      "  Country  Age  Salary  Purchase\n",
      "0  Canada   19  807572     False\n",
      "1   India   32  176316      True\n",
      "2  Brazil   23  649176     False\n",
      "3     USA   19  128246      True\n",
      "4   India   50  661262      True\n"
     ]
    }
   ],
   "source": [
    "# generate a synthetic dataset\n",
    "\n",
    "import pandas as pd\n",
    "import random\n",
    "import faker\n",
    "\n",
    "# Set a seed for reproducibility\n",
    "random.seed(42)\n",
    "\n",
    "# Create a Faker instance for generating random countries\n",
    "fake = faker.Faker()\n",
    "\n",
    "# Generate the data\n",
    "data = []\n",
    "\n",
    "countries = ['USA', 'Canada', 'UK', 'India', 'Germany', 'Australia', 'France', 'Japan', 'Brazil', 'China']\n",
    "num_entries = 10  # Number of rows to generate\n",
    "\n",
    "for _ in range(num_entries):\n",
    "    country = random.choice(countries)\n",
    "    age = random.randint(18, 70)  # Random age between 18 and 70\n",
    "    salary = random.randint(30000, 999999)  # Random salary in the range 30k to 999k\n",
    "    purchase = random.choice([True, False])  # Random purchase boolean\n",
    "    \n",
    "    data.append([country, age, salary, purchase])\n",
    "\n",
    "# Create DataFrame\n",
    "df = pd.DataFrame(data, columns=['Country', 'Age', 'Salary', 'Purchase'])\n",
    "\n",
    "# Show the first few rows of the dataframe\n",
    "print(df.head())\n",
    "\n",
    "# Optionally, save to a CSV file\n",
    "df.to_csv('synthetic_data.csv', index=False)\n"
   ]
  }
 ],
 "metadata": {
  "kernelspec": {
   "display_name": "Python 3",
   "language": "python",
   "name": "python3"
  },
  "language_info": {
   "codemirror_mode": {
    "name": "ipython",
    "version": 3
   },
   "file_extension": ".py",
   "mimetype": "text/x-python",
   "name": "python",
   "nbconvert_exporter": "python",
   "pygments_lexer": "ipython3",
   "version": "3.12.1"
  }
 },
 "nbformat": 4,
 "nbformat_minor": 2
}
