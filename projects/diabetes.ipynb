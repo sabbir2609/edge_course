{
 "cells": [
  {
   "cell_type": "code",
   "execution_count": 1,
   "metadata": {},
   "outputs": [],
   "source": [
    "# Diabetes analysis with ANOVA\n",
    "\n",
    "import pandas as pd\n",
    "import numpy as np\n",
    "import matplotlib.pyplot as plt\n",
    "import seaborn as sns\n",
    "from scipy import stats"
   ]
  },
  {
   "cell_type": "code",
   "execution_count": null,
   "metadata": {},
   "outputs": [],
   "source": [
    "# load the data\n",
    "data = pd.read_csv('../data/diabetes.csv')\n",
    "\n",
    "# ANOVA\n",
    "# H0: The means of the groups are equal\n",
    "# H1: The means of the groups are not equal\n",
    "\n",
    "# ANOVA test for the 'Glucose' column\n",
    "# Group the data by 'Outcome'\n",
    "grouped_data = data.groupby('Outcome')['Glucose']\n",
    "\n",
    "# Perform the ANOVA test\n",
    "f_val, p_val = stats.f_oneway(*[group for name, group in grouped_data])\n",
    "print('ANOVA test for the Glucose column:')\n",
    "print('F-value:', f_val)\n",
    "print('P-value:', p_val)\n",
    "\n",
    "# ANOVA test for the 'BloodPressure' column\n",
    "# Group the data by 'Outcome'\n",
    "grouped_data = data.groupby('Outcome')['BloodPressure']\n",
    "\n",
    "# Perform the ANOVA test\n",
    "f_val, p_val = stats.f_oneway(*[group for name, group in grouped_data])\n",
    "print('ANOVA test for the BloodPressure column:')\n",
    "print('F-value:', f_val)\n"
   ]
  },
  {
   "cell_type": "code",
   "execution_count": null,
   "metadata": {},
   "outputs": [],
   "source": [
    "# find the most significant features\n",
    "# calculate the correlation matrix\n",
    "corr = data.corr()\n",
    "\n",
    "# plot the heatmap\n",
    "plt.figure(figsize=(12, 10))\n",
    "sns.heatmap(corr, annot=True, cmap='coolwarm')\n",
    "plt.title('Correlation matrix')\n",
    "plt.show()"
   ]
  },
  {
   "cell_type": "code",
   "execution_count": null,
   "metadata": {},
   "outputs": [],
   "source": [
    "# Glucose, BMI, and Age are the most significant features\n",
    "# ANOVA test for the 'BMI' column\n",
    "\n",
    "# Group the data by 'Outcome'\n",
    "grouped_data = data.groupby('Outcome')['BMI']\n",
    "\n"
   ]
  }
 ],
 "metadata": {
  "kernelspec": {
   "display_name": "Python 3",
   "language": "python",
   "name": "python3"
  },
  "language_info": {
   "codemirror_mode": {
    "name": "ipython",
    "version": 3
   },
   "file_extension": ".py",
   "mimetype": "text/x-python",
   "name": "python",
   "nbconvert_exporter": "python",
   "pygments_lexer": "ipython3",
   "version": "3.12.1"
  }
 },
 "nbformat": 4,
 "nbformat_minor": 2
}
