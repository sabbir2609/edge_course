{
 "cells": [
  {
   "cell_type": "code",
   "execution_count": 2,
   "metadata": {},
   "outputs": [
    {
     "name": "stdout",
     "output_type": "stream",
     "text": [
      "Mean Squared Error (MSE): 3.17\n",
      "R-squared (R^2) Score: 0.90\n"
     ]
    }
   ],
   "source": [
    "'''\n",
    "Q1. Implement Linear Regression\n",
    "Dataset: Use the Advertising.csv\n",
    "(https:/raw.githubusercontent.com/selva86/datasets/master/Advertising.csv) \n",
    "Task:\n",
    "I. Load the dataset and use TV. Radio, and Newspaper as features to predict Sales\n",
    "II. Split the data into training and testing sets\n",
    "III. Implement and train a Linear Regression model using scikit-learn.\n",
    "IV Calculate and print the Mean Squared Ertor (MSE) and R-squared (R^2) score for the test set.\n",
    "'''\n",
    "\n",
    "import pandas as pd\n",
    "from sklearn.model_selection import train_test_split\n",
    "from sklearn.linear_model import LinearRegression\n",
    "from sklearn.metrics import mean_squared_error, r2_score\n",
    "\n",
    "# Load the dataset\n",
    "url = \"https://raw.githubusercontent.com/selva86/datasets/master/Advertising.csv\"\n",
    "data = pd.read_csv(url)\n",
    "\n",
    "# Use TV, radio, and newspaper as features to predict sales\n",
    "X = data[[\"TV\", \"radio\", \"newspaper\"]]\n",
    "y = data[\"sales\"]\n",
    "\n",
    "# Split the data into training and testing sets\n",
    "X_train, X_test, y_train, y_test = train_test_split(X, y, test_size=0.2, random_state=42)\n",
    "\n",
    "# Implement and train a Linear Regression model\n",
    "model = LinearRegression()\n",
    "model.fit(X_train, y_train)\n",
    "\n",
    "# Make predictions on the test set\n",
    "y_pred = model.predict(X_test)\n",
    "\n",
    "# Calculate and print the Mean Squared Error (MSE) and R-squared (R^2) score\n",
    "mse = mean_squared_error(y_test, y_pred)\n",
    "r2 = r2_score(y_test, y_pred)\n",
    "\n",
    "print(f\"Mean Squared Error (MSE): {mse:.2f}\")\n",
    "print(f\"R-squared (R^2) Score: {r2:.2f}\")"
   ]
  }
 ],
 "metadata": {
  "kernelspec": {
   "display_name": "Python 3",
   "language": "python",
   "name": "python3"
  },
  "language_info": {
   "codemirror_mode": {
    "name": "ipython",
    "version": 3
   },
   "file_extension": ".py",
   "mimetype": "text/x-python",
   "name": "python",
   "nbconvert_exporter": "python",
   "pygments_lexer": "ipython3",
   "version": "3.12.1"
  }
 },
 "nbformat": 4,
 "nbformat_minor": 2
}
