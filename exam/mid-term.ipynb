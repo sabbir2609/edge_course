{
 "cells": [
  {
   "cell_type": "code",
   "execution_count": 1,
   "metadata": {},
   "outputs": [
    {
     "name": "stdout",
     "output_type": "stream",
     "text": [
      "55\n"
     ]
    }
   ],
   "source": [
    "# Create a list of 5 real numbers. Define a function to compute the sum of those squared numbers. Print the summation output.\n",
    "\n",
    "# a list of 5 real numbers\n",
    "numbers = [1, 2, 3, 4, 5]\n",
    "\n",
    "# function to compute the sum of those squared numbers\n",
    "def sum_of_squared_numbers(numbers):\n",
    "    return sum([number ** 2 for number in numbers])\n",
    "\n",
    "# print the summation output\n",
    "print(sum_of_squared_numbers(numbers))"
   ]
  }
 ],
 "metadata": {
  "kernelspec": {
   "display_name": "Python 3",
   "language": "python",
   "name": "python3"
  },
  "language_info": {
   "codemirror_mode": {
    "name": "ipython",
    "version": 3
   },
   "file_extension": ".py",
   "mimetype": "text/x-python",
   "name": "python",
   "nbconvert_exporter": "python",
   "pygments_lexer": "ipython3",
   "version": "3.12.1"
  }
 },
 "nbformat": 4,
 "nbformat_minor": 2
}
