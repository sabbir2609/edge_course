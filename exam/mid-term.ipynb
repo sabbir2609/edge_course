{
 "cells": [
  {
   "cell_type": "code",
   "execution_count": 2,
   "metadata": {},
   "outputs": [
    {
     "name": "stdout",
     "output_type": "stream",
     "text": [
      "55\n"
     ]
    }
   ],
   "source": [
    "# Q1. Create a list of 5 real numbers. Define a function to compute the sum of those squared numbers. Print the summation output.\n",
    "\n",
    "# a list of 5 real numbers\n",
    "numbers = [1, 2, 3, 4, 5]\n",
    "\n",
    "# function to compute the sum of those squared numbers\n",
    "def sum_of_squared_numbers(numbers):\n",
    "    return sum([number ** 2 for number in numbers])\n",
    "\n",
    "# print the summation output\n",
    "print(sum_of_squared_numbers(numbers))"
   ]
  },
  {
   "cell_type": "code",
   "execution_count": 3,
   "metadata": {},
   "outputs": [
    {
     "data": {
      "image/png": "[encoded data removed]",
      "text/plain": [
       "<Figure size 640x480 with 1 Axes>"
      ]
     },
     "metadata": {},
     "output_type": "display_data"
    }
   ],
   "source": [
    "# Q2. Generate a array of 2000 random numbers using numpy. Create a histogram of 30 bins. Plot the histogram mentioning the axis lebel and appropriate title.\n",
    "\n",
    "\n",
    "# import necessary libraries\n",
    "import numpy as np\n",
    "import matplotlib.pyplot as plt\n",
    "\n",
    "\n",
    "# generate a array of 2000 random numbers using numpy\n",
    "random_numbers = np.random.rand(2000)\n",
    "\n",
    "# create a histogram of 30 bins\n",
    "plt.hist(random_numbers, bins=30)\n",
    "\n",
    "# plot the histogram mentioning the axis lebel and appropriate title\n",
    "plt.xlabel('Random Numbers')\n",
    "plt.ylabel('Frequency')\n",
    "plt.title('Histogram of 2000 Random Numbers')\n",
    "plt.show()\n"
   ]
  },
  {
   "cell_type": "code",
   "execution_count": 4,
   "metadata": {},
   "outputs": [
    {
     "name": "stdout",
     "output_type": "stream",
     "text": [
      "    Gender  Country    income  Car_Purchase_Possibility\n",
      "0        1        2 -0.449930                         0\n",
      "1        0        2 -0.074988                         1\n",
      "2        1        0 -2.174660                         0\n",
      "3        0        2  0.899859                         1\n",
      "4        1        1 -0.299953                         1\n",
      "5        0        1  1.424777                         1\n",
      "6        1        0  1.499766                         0\n",
      "7        0        1  0.149977                         1\n",
      "8        0        1  0.674895                         1\n",
      "9        1        0 -0.974848                         0\n",
      "10       1        2  0.000000                         1\n",
      "11       0        1 -0.674895                         0\n"
     ]
    }
   ],
   "source": [
    "'''\n",
    "Q3. Create a sample dataset with the following information:\n",
    " dataframe = \n",
    "        Gender: [Male, Female, Male, Female,Male, Female, Male, Female, Female, Male, Male, Female]\n",
    "        Country: [USA, USA, Germany, USA, UK, UK, Germany, UK, UK, Germany, USA, UK]\n",
    "        income: [50000, 55000, 27000, 68000, 52000, 75000, 76000, 58000, 65000, 43000]\n",
    "        Car_Purchase_Possibility: [no, yes, no, yes, yes, yes, no, yes, yes, no, yes, no]\n",
    "\n",
    "Load this dataframe using numpy and pandas. Apply preprocessing by handing missing values.\n",
    "Also apply encoding on the categorical features. Finally scale the features for standardization.\n",
    "'''\n",
    "\n",
    "import pandas as pd\n",
    "import numpy as np\n",
    "from sklearn.preprocessing import LabelEncoder, StandardScaler\n",
    "\n",
    "# Sample data\n",
    "data = {\n",
    "    'Gender': ['Male', 'Female', 'Male', 'Female', 'Male', 'Female', 'Male', 'Female', 'Female', 'Male', 'Male', 'Female'],\n",
    "    'Country': ['USA', 'USA', 'Germany', 'USA', 'UK', 'UK', 'Germany', 'UK', 'UK', 'Germany', 'USA', 'UK'],\n",
    "    'income': [50000, 55000, 27000, 68000, 52000, 75000, 76000, 58000, 65000, 43000, np.nan, 47000],  # Added NaN value\n",
    "    'Car_Purchase_Possibility': ['no', 'yes', 'no', 'yes', 'yes', 'yes', 'no', 'yes', 'yes', 'no', 'yes', 'no']\n",
    "}\n",
    "\n",
    "# Load data into DataFrame\n",
    "df = pd.DataFrame(data)\n",
    "\n",
    "# Handling missing values by filling with the mean\n",
    "df['income'] = df['income'].fillna(df['income'].mean())\n",
    "\n",
    "# Encoding categorical features\n",
    "label_encoders = {}\n",
    "for column in ['Gender', 'Country', 'Car_Purchase_Possibility']:\n",
    "    le = LabelEncoder()\n",
    "    df[column] = le.fit_transform(df[column])\n",
    "    label_encoders[column] = le\n",
    "\n",
    "# Scaling the features\n",
    "scaler = StandardScaler()\n",
    "df[['income']] = scaler.fit_transform(df[['income']])\n",
    "\n",
    "print(df)\n"
   ]
  },
  {
   "cell_type": "code",
   "execution_count": null,
   "metadata": {},
   "outputs": [
    {
     "name": "stdout",
     "output_type": "stream",
     "text": [
      "Accuracy: 0.6666666666666666\n",
      "Classification Report:\n",
      "              precision    recall  f1-score   support\n",
      "\n",
      "           0       1.00      0.50      0.67         2\n",
      "           1       0.50      1.00      0.67         1\n",
      "\n",
      "    accuracy                           0.67         3\n",
      "   macro avg       0.75      0.75      0.67         3\n",
      "weighted avg       0.83      0.67      0.67         3\n",
      "\n"
     ]
    }
   ],
   "source": [
    "# Q4. Use the dataframe mentioned in Q3 for performing a classification task using kNN. You are asked to use 80-20 data splitting for the model. All needed hyperparameters can be assumed to perform better classification.\n",
    "\n",
    "import pandas as pd\n",
    "import numpy as np\n",
    "from sklearn.preprocessing import LabelEncoder, StandardScaler\n",
    "from sklearn.model_selection import train_test_split\n",
    "from sklearn.neighbors import KNeighborsClassifier\n",
    "from sklearn.metrics import accuracy_score, classification_report\n",
    "\n",
    "\n",
    "# Handling missing values by filling with the mean\n",
    "df['income'] = df['income'].fillna(df['income'].mean())\n",
    "\n",
    "# Encoding categorical features\n",
    "label_encoders = {}\n",
    "for column in ['Gender', 'Country', 'Car_Purchase_Possibility']:\n",
    "    le = LabelEncoder()\n",
    "    df[column] = le.fit_transform(df[column])\n",
    "    label_encoders[column] = le\n",
    "\n",
    "# Scaling the features\n",
    "scaler = StandardScaler()\n",
    "df[['income']] = scaler.fit_transform(df[['income']])\n",
    "\n",
    "# Splitting data into features and target\n",
    "X = df[['Gender', 'Country', 'income']]\n",
    "y = df['Car_Purchase_Possibility']\n",
    "\n",
    "# Splitting the data into training and testing sets (80-20 split)\n",
    "X_train, X_test, y_train, y_test = train_test_split(X, y, test_size=0.2, random_state=42)\n",
    "\n",
    "# Initializing and training the kNN classifier\n",
    "knn = KNeighborsClassifier(n_neighbors=3)\n",
    "knn.fit(X_train, y_train)\n",
    "\n",
    "# Making predictions\n",
    "y_pred = knn.predict(X_test)\n",
    "\n",
    "# Evaluating the model\n",
    "accuracy = accuracy_score(y_test, y_pred)\n",
    "report = classification_report(y_test, y_pred)\n",
    "\n",
    "print(f\"Accuracy: {accuracy}\")\n",
    "print(\"Classification Report:\")\n",
    "print(report)\n"
   ]
  }
 ],
 "metadata": {
  "kernelspec": {
   "display_name": "Python 3",
   "language": "python",
   "name": "python3"
  },
  "language_info": {
   "codemirror_mode": {
    "name": "ipython",
    "version": 3
   },
   "file_extension": ".py",
   "mimetype": "text/x-python",
   "name": "python",
   "nbconvert_exporter": "python",
   "pygments_lexer": "ipython3",
   "version": "3.12.1"
  }
 },
 "nbformat": 4,
 "nbformat_minor": 2
}
