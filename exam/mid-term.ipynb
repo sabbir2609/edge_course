{
 "cells": [
  {
   "cell_type": "code",
   "execution_count": null,
   "metadata": {},
   "outputs": [],
   "source": [
    "# Create a list of 5 real numbers. Define a function to compute the sum of those squared numbers. Print the summation output.\n",
    "\n",
    "# a list of 5 real numbers\n",
    "numbers = [1, 2, 3, 4, 5]"
   ]
  }
 ],
 "metadata": {
  "language_info": {
   "name": "python"
  }
 },
 "nbformat": 4,
 "nbformat_minor": 2
}
